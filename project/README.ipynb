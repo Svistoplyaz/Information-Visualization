{
 "cells": [
  {
   "cell_type": "markdown",
   "metadata": {},
   "source": [
    "# 2019-wid\n",
    "\n",
    "Extracts of the [World Inequality Database](https://wid.world/).\n",
    "\n",
    "## How to view and interact with these visualizations:\n",
    "\n",
    "* Make sure that the current directory is set to Information-Visualization-master. Run a web server, [python3 -m http.server], and at http://localhost:8000/project/viz/ you will find all the available visualizations. \n",
    "\n",
    "* http://localhost:8000/project/viz/2d_dot_space.html depicts a 2d dot space showing the evolution of the corresponding wealth and poverty for the different continents. Drag the top slider to change the year, and select which continents you would like to look at specifically. Mousing over a dot will tell you the source of that data point. To specifically track a certain country, click on the dot to make it black.\n",
    "\n",
    "* http://localhost:8000/project/viz/Cumulated%20Income.html shows the cumulated income for the United States of America. In this mapping, you can drag the top bar to change the year.\n",
    "\n",
    "* http://localhost:8000/project/viz/interactive_wm.html shows the Gini Index for different countries of the world, where the data was available. They color key in the bottom left corner indicates the Gini Index range, but by hovering over a country you can see the precise value. You can select year from the drop down menu in the top left corner.\n",
    "\n",
    "## Content\n",
    "\n",
    "* **data/** the data in [tsv](https://bl.ocks.org/mbostock/3305937).\n",
    "\t* **countries.tsv** country codes\n",
    "\t* **income_gini.tsv** [GINI index](https://en.wikipedia.org/wiki/Gini_coefficient) of income per country and year\n",
    "\t* **income_averages.tsv** income average per country and year (constant 2015 euro)\n",
    "\t* **income/** income share per country\n",
    "\t* **world_map_data/** files used for the world map visualization\n",
    "\t  * **choose_date.py** choose date with \"python choose_date.py \\<year\\>\"\n",
    "\t  * **data.csv** whole data related to gini index\n",
    "\t  * **data_map.csv** data related to gini index for the choosen year\n",
    "* **viz/** sample visualisations\n",
    "* **vendor/** vendorized d3 library\n",
    "\n",
    "## Data structure\n",
    "\n",
    "Income data table are given per country.\n",
    "The attributes present in the tables are:\n",
    "\n",
    "* **country** the country code\n",
    "* **year** the year for the data\n",
    "* **low** the lower bound of the population quantile (from 0. to 1.)\n",
    "* **high** the upper bound of the population quantile (from 0. to 1.)\n",
    "* **width** the width of the quntile (high-low)\n",
    "* **share** the share of the total income captured by this [low, high] quantile\n",
    "* **cumul** the cumulative share of the quantiles, i.e. the share of [0., high]"
   ]
  }
 ],
 "metadata": {
  "kernelspec": {
   "display_name": "Python 3",
   "language": "python",
   "name": "python3"
  },
  "language_info": {
   "codemirror_mode": {
    "name": "ipython",
    "version": 3
   },
   "file_extension": ".py",
   "mimetype": "text/x-python",
   "name": "python",
   "nbconvert_exporter": "python",
   "pygments_lexer": "ipython3",
   "version": "3.5.3"
  }
 },
 "nbformat": 4,
 "nbformat_minor": 2
}
